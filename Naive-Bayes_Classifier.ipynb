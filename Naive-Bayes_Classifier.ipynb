{
  "cells": [
    {
      "cell_type": "markdown",
      "id": "477eca4e-57b9-4fed-91c9-1865de26200b",
      "metadata": {
        "id": "477eca4e-57b9-4fed-91c9-1865de26200b"
      },
      "source": [
        "# Assignment-3: Naive Bayes Classifier\n",
        "\n",
        "\n",
        "**Author:**\n",
        "AHMED SHMELS MUHE (GE22M009)"
      ]
    },
    {
      "cell_type": "code",
      "source": [
        "from google.colab import drive\n",
        "drive.mount('/content/drive')"
      ],
      "metadata": {
        "id": "IP19FkiyYqzt"
      },
      "id": "IP19FkiyYqzt",
      "execution_count": null,
      "outputs": []
    },
    {
      "cell_type": "code",
      "execution_count": null,
      "id": "ba6f94d1-cf14-4f87-84e3-dbcb3d59e4e8",
      "metadata": {
        "id": "ba6f94d1-cf14-4f87-84e3-dbcb3d59e4e8"
      },
      "outputs": [],
      "source": [
        "import pandas as pd\n",
        "import numpy as np\n",
        "import seaborn as sns\n",
        "import matplotlib.pyplot as plt"
      ]
    },
    {
      "cell_type": "code",
      "execution_count": null,
      "id": "ee0695eb-a19c-485b-89c0-10efb689011f",
      "metadata": {
        "id": "ee0695eb-a19c-485b-89c0-10efb689011f",
        "outputId": "2dcb7f55-9773-436d-dbce-94028c7ce567"
      },
      "outputs": [
        {
          "data": {
            "text/plain": [
              "(32560, 15)"
            ]
          },
          "execution_count": 2,
          "metadata": {},
          "output_type": "execute_result"
        }
      ],
      "source": [
        "df = pd.read_csv(\"adult.csv\")\n",
        "df.columns = [\"age\", \"workclass\", \"fnlwgt\", \"education\", \"education-num\", \"marital-status\", \"occupation\", \"relationship\", \"race\", \"sex\", \"capital-gain\", \"capital-loss\", \"hours-per-week\", \"native-country\", \"income\"]\n",
        "\n",
        "df.shape"
      ]
    },
    {
      "cell_type": "code",
      "execution_count": null,
      "id": "b74950f9-cf72-4c67-975c-ef9e2e659281",
      "metadata": {
        "id": "b74950f9-cf72-4c67-975c-ef9e2e659281",
        "outputId": "b67b28ae-7ce2-480a-d093-0228fd8dfebf"
      },
      "outputs": [
        {
          "name": "stdout",
          "output_type": "stream",
          "text": [
            "<class 'pandas.core.frame.DataFrame'>\n",
            "RangeIndex: 32560 entries, 0 to 32559\n",
            "Data columns (total 15 columns):\n",
            " #   Column          Non-Null Count  Dtype \n",
            "---  ------          --------------  ----- \n",
            " 0   age             32560 non-null  int64 \n",
            " 1   workclass       32560 non-null  object\n",
            " 2   fnlwgt          32560 non-null  int64 \n",
            " 3   education       32560 non-null  object\n",
            " 4   education-num   32560 non-null  int64 \n",
            " 5   marital-status  32560 non-null  object\n",
            " 6   occupation      32560 non-null  object\n",
            " 7   relationship    32560 non-null  object\n",
            " 8   race            32560 non-null  object\n",
            " 9   sex             32560 non-null  object\n",
            " 10  capital-gain    32560 non-null  int64 \n",
            " 11  capital-loss    32560 non-null  int64 \n",
            " 12  hours-per-week  32560 non-null  int64 \n",
            " 13  native-country  32560 non-null  object\n",
            " 14  income          32560 non-null  object\n",
            "dtypes: int64(6), object(9)\n",
            "memory usage: 3.7+ MB\n"
          ]
        }
      ],
      "source": [
        "df.info()"
      ]
    },
    {
      "cell_type": "markdown",
      "id": "0e4c16af-7f38-4bbb-a189-97b3fffe72c6",
      "metadata": {
        "id": "0e4c16af-7f38-4bbb-a189-97b3fffe72c6"
      },
      "source": [
        "## Data Engineering & Visualization"
      ]
    },
    {
      "cell_type": "code",
      "execution_count": null,
      "id": "a5cc0002-371c-4dc4-b367-bd273f2c5eca",
      "metadata": {
        "id": "a5cc0002-371c-4dc4-b367-bd273f2c5eca",
        "outputId": "33356c4c-cd79-4686-e9d3-426ab0485b77"
      },
      "outputs": [
        {
          "data": {
            "text/html": [
              "<div>\n",
              "<style scoped>\n",
              "    .dataframe tbody tr th:only-of-type {\n",
              "        vertical-align: middle;\n",
              "    }\n",
              "\n",
              "    .dataframe tbody tr th {\n",
              "        vertical-align: top;\n",
              "    }\n",
              "\n",
              "    .dataframe thead th {\n",
              "        text-align: right;\n",
              "    }\n",
              "</style>\n",
              "<table border=\"1\" class=\"dataframe\">\n",
              "  <thead>\n",
              "    <tr style=\"text-align: right;\">\n",
              "      <th></th>\n",
              "      <th>age</th>\n",
              "      <th>workclass</th>\n",
              "      <th>fnlwgt</th>\n",
              "      <th>education</th>\n",
              "      <th>education-num</th>\n",
              "      <th>marital-status</th>\n",
              "      <th>occupation</th>\n",
              "      <th>relationship</th>\n",
              "      <th>race</th>\n",
              "      <th>sex</th>\n",
              "      <th>capital-gain</th>\n",
              "      <th>capital-loss</th>\n",
              "      <th>hours-per-week</th>\n",
              "      <th>native-country</th>\n",
              "      <th>income</th>\n",
              "    </tr>\n",
              "  </thead>\n",
              "  <tbody>\n",
              "    <tr>\n",
              "      <th>0</th>\n",
              "      <td>50</td>\n",
              "      <td>Self-emp-not-inc</td>\n",
              "      <td>83311</td>\n",
              "      <td>Bachelors</td>\n",
              "      <td>13</td>\n",
              "      <td>Married-civ-spouse</td>\n",
              "      <td>Exec-managerial</td>\n",
              "      <td>Husband</td>\n",
              "      <td>White</td>\n",
              "      <td>Male</td>\n",
              "      <td>0</td>\n",
              "      <td>0</td>\n",
              "      <td>13</td>\n",
              "      <td>United-States</td>\n",
              "      <td>&lt;=50K</td>\n",
              "    </tr>\n",
              "    <tr>\n",
              "      <th>1</th>\n",
              "      <td>38</td>\n",
              "      <td>Private</td>\n",
              "      <td>215646</td>\n",
              "      <td>HS-grad</td>\n",
              "      <td>9</td>\n",
              "      <td>Divorced</td>\n",
              "      <td>Handlers-cleaners</td>\n",
              "      <td>Not-in-family</td>\n",
              "      <td>White</td>\n",
              "      <td>Male</td>\n",
              "      <td>0</td>\n",
              "      <td>0</td>\n",
              "      <td>40</td>\n",
              "      <td>United-States</td>\n",
              "      <td>&lt;=50K</td>\n",
              "    </tr>\n",
              "    <tr>\n",
              "      <th>2</th>\n",
              "      <td>53</td>\n",
              "      <td>Private</td>\n",
              "      <td>234721</td>\n",
              "      <td>11th</td>\n",
              "      <td>7</td>\n",
              "      <td>Married-civ-spouse</td>\n",
              "      <td>Handlers-cleaners</td>\n",
              "      <td>Husband</td>\n",
              "      <td>Black</td>\n",
              "      <td>Male</td>\n",
              "      <td>0</td>\n",
              "      <td>0</td>\n",
              "      <td>40</td>\n",
              "      <td>United-States</td>\n",
              "      <td>&lt;=50K</td>\n",
              "    </tr>\n",
              "    <tr>\n",
              "      <th>3</th>\n",
              "      <td>28</td>\n",
              "      <td>Private</td>\n",
              "      <td>338409</td>\n",
              "      <td>Bachelors</td>\n",
              "      <td>13</td>\n",
              "      <td>Married-civ-spouse</td>\n",
              "      <td>Prof-specialty</td>\n",
              "      <td>Wife</td>\n",
              "      <td>Black</td>\n",
              "      <td>Female</td>\n",
              "      <td>0</td>\n",
              "      <td>0</td>\n",
              "      <td>40</td>\n",
              "      <td>Cuba</td>\n",
              "      <td>&lt;=50K</td>\n",
              "    </tr>\n",
              "    <tr>\n",
              "      <th>4</th>\n",
              "      <td>37</td>\n",
              "      <td>Private</td>\n",
              "      <td>284582</td>\n",
              "      <td>Masters</td>\n",
              "      <td>14</td>\n",
              "      <td>Married-civ-spouse</td>\n",
              "      <td>Exec-managerial</td>\n",
              "      <td>Wife</td>\n",
              "      <td>White</td>\n",
              "      <td>Female</td>\n",
              "      <td>0</td>\n",
              "      <td>0</td>\n",
              "      <td>40</td>\n",
              "      <td>United-States</td>\n",
              "      <td>&lt;=50K</td>\n",
              "    </tr>\n",
              "  </tbody>\n",
              "</table>\n",
              "</div>"
            ],
            "text/plain": [
              "   age         workclass  fnlwgt  education  education-num  \\\n",
              "0   50  Self-emp-not-inc   83311  Bachelors             13   \n",
              "1   38           Private  215646    HS-grad              9   \n",
              "2   53           Private  234721       11th              7   \n",
              "3   28           Private  338409  Bachelors             13   \n",
              "4   37           Private  284582    Masters             14   \n",
              "\n",
              "       marital-status         occupation   relationship   race     sex  \\\n",
              "0  Married-civ-spouse    Exec-managerial        Husband  White    Male   \n",
              "1            Divorced  Handlers-cleaners  Not-in-family  White    Male   \n",
              "2  Married-civ-spouse  Handlers-cleaners        Husband  Black    Male   \n",
              "3  Married-civ-spouse     Prof-specialty           Wife  Black  Female   \n",
              "4  Married-civ-spouse    Exec-managerial           Wife  White  Female   \n",
              "\n",
              "   capital-gain  capital-loss  hours-per-week native-country income  \n",
              "0             0             0              13  United-States  <=50K  \n",
              "1             0             0              40  United-States  <=50K  \n",
              "2             0             0              40  United-States  <=50K  \n",
              "3             0             0              40           Cuba  <=50K  \n",
              "4             0             0              40  United-States  <=50K  "
            ]
          },
          "execution_count": 4,
          "metadata": {},
          "output_type": "execute_result"
        }
      ],
      "source": [
        "for col in df.columns:\n",
        "    df[col] = df[col].map(lambda x: x.strip() if type(x) == str else x)\n",
        "df.head()"
      ]
    },
    {
      "cell_type": "code",
      "execution_count": null,
      "id": "53c3e1dd-e05b-443d-8bdc-a0fde75ba0b0",
      "metadata": {
        "id": "53c3e1dd-e05b-443d-8bdc-a0fde75ba0b0",
        "outputId": "c5069808-94a5-4d26-cb8f-01aef0f9e0b8"
      },
      "outputs": [
        {
          "name": "stdout",
          "output_type": "stream",
          "text": [
            "<class 'pandas.core.frame.DataFrame'>\n",
            "RangeIndex: 32560 entries, 0 to 32559\n",
            "Data columns (total 15 columns):\n",
            " #   Column          Non-Null Count  Dtype \n",
            "---  ------          --------------  ----- \n",
            " 0   age             32560 non-null  int64 \n",
            " 1   workclass       30724 non-null  object\n",
            " 2   fnlwgt          32560 non-null  int64 \n",
            " 3   education       32560 non-null  object\n",
            " 4   education-num   32560 non-null  int64 \n",
            " 5   marital-status  32560 non-null  object\n",
            " 6   occupation      30717 non-null  object\n",
            " 7   relationship    32560 non-null  object\n",
            " 8   race            32560 non-null  object\n",
            " 9   sex             32560 non-null  object\n",
            " 10  capital-gain    32560 non-null  int64 \n",
            " 11  capital-loss    32560 non-null  int64 \n",
            " 12  hours-per-week  32560 non-null  int64 \n",
            " 13  native-country  31977 non-null  object\n",
            " 14  income          32560 non-null  object\n",
            "dtypes: int64(6), object(9)\n",
            "memory usage: 3.7+ MB\n"
          ]
        }
      ],
      "source": [
        "df = df.replace({\"?\": np.nan})\n",
        "df.info()"
      ]
    },
    {
      "cell_type": "code",
      "execution_count": null,
      "id": "fda946d9-289d-404d-891f-202a6d2d261f",
      "metadata": {
        "id": "fda946d9-289d-404d-891f-202a6d2d261f",
        "outputId": "6c563b92-7a2b-4158-c9bb-f155d8a01599"
      },
      "outputs": [
        {
          "data": {
            "text/plain": [
              "((32560, 15), (30161, 15))"
            ]
          },
          "execution_count": 6,
          "metadata": {},
          "output_type": "execute_result"
        }
      ],
      "source": [
        "df.shape, df.dropna().shape"
      ]
    },
    {
      "cell_type": "code",
      "execution_count": null,
      "id": "0c3a7417-f482-42ee-b5c6-d50bb5071417",
      "metadata": {
        "id": "0c3a7417-f482-42ee-b5c6-d50bb5071417",
        "outputId": "c1c9daf8-ff52-4ebc-8ff3-401fb4f92494"
      },
      "outputs": [
        {
          "data": {
            "text/html": [
              "<div>\n",
              "<style scoped>\n",
              "    .dataframe tbody tr th:only-of-type {\n",
              "        vertical-align: middle;\n",
              "    }\n",
              "\n",
              "    .dataframe tbody tr th {\n",
              "        vertical-align: top;\n",
              "    }\n",
              "\n",
              "    .dataframe thead th {\n",
              "        text-align: right;\n",
              "    }\n",
              "</style>\n",
              "<table border=\"1\" class=\"dataframe\">\n",
              "  <thead>\n",
              "    <tr style=\"text-align: right;\">\n",
              "      <th></th>\n",
              "      <th>age</th>\n",
              "      <th>workclass</th>\n",
              "      <th>fnlwgt</th>\n",
              "      <th>education</th>\n",
              "      <th>education-num</th>\n",
              "      <th>marital-status</th>\n",
              "      <th>occupation</th>\n",
              "      <th>relationship</th>\n",
              "      <th>race</th>\n",
              "      <th>sex</th>\n",
              "      <th>capital-gain</th>\n",
              "      <th>capital-loss</th>\n",
              "      <th>hours-per-week</th>\n",
              "      <th>native-country</th>\n",
              "      <th>income</th>\n",
              "    </tr>\n",
              "  </thead>\n",
              "  <tbody>\n",
              "    <tr>\n",
              "      <th>0</th>\n",
              "      <td>50</td>\n",
              "      <td>Self-emp-not-inc</td>\n",
              "      <td>83311</td>\n",
              "      <td>Bachelors</td>\n",
              "      <td>13</td>\n",
              "      <td>Married-civ-spouse</td>\n",
              "      <td>Exec-managerial</td>\n",
              "      <td>Husband</td>\n",
              "      <td>White</td>\n",
              "      <td>Male</td>\n",
              "      <td>0</td>\n",
              "      <td>0</td>\n",
              "      <td>13</td>\n",
              "      <td>United-States</td>\n",
              "      <td>&lt;=50K</td>\n",
              "    </tr>\n",
              "    <tr>\n",
              "      <th>1</th>\n",
              "      <td>38</td>\n",
              "      <td>Private</td>\n",
              "      <td>215646</td>\n",
              "      <td>HS-grad</td>\n",
              "      <td>9</td>\n",
              "      <td>Divorced</td>\n",
              "      <td>Handlers-cleaners</td>\n",
              "      <td>Not-in-family</td>\n",
              "      <td>White</td>\n",
              "      <td>Male</td>\n",
              "      <td>0</td>\n",
              "      <td>0</td>\n",
              "      <td>40</td>\n",
              "      <td>United-States</td>\n",
              "      <td>&lt;=50K</td>\n",
              "    </tr>\n",
              "    <tr>\n",
              "      <th>2</th>\n",
              "      <td>53</td>\n",
              "      <td>Private</td>\n",
              "      <td>234721</td>\n",
              "      <td>11th</td>\n",
              "      <td>7</td>\n",
              "      <td>Married-civ-spouse</td>\n",
              "      <td>Handlers-cleaners</td>\n",
              "      <td>Husband</td>\n",
              "      <td>Black</td>\n",
              "      <td>Male</td>\n",
              "      <td>0</td>\n",
              "      <td>0</td>\n",
              "      <td>40</td>\n",
              "      <td>United-States</td>\n",
              "      <td>&lt;=50K</td>\n",
              "    </tr>\n",
              "    <tr>\n",
              "      <th>3</th>\n",
              "      <td>28</td>\n",
              "      <td>Private</td>\n",
              "      <td>338409</td>\n",
              "      <td>Bachelors</td>\n",
              "      <td>13</td>\n",
              "      <td>Married-civ-spouse</td>\n",
              "      <td>Prof-specialty</td>\n",
              "      <td>Wife</td>\n",
              "      <td>Black</td>\n",
              "      <td>Female</td>\n",
              "      <td>0</td>\n",
              "      <td>0</td>\n",
              "      <td>40</td>\n",
              "      <td>Cuba</td>\n",
              "      <td>&lt;=50K</td>\n",
              "    </tr>\n",
              "    <tr>\n",
              "      <th>4</th>\n",
              "      <td>37</td>\n",
              "      <td>Private</td>\n",
              "      <td>284582</td>\n",
              "      <td>Masters</td>\n",
              "      <td>14</td>\n",
              "      <td>Married-civ-spouse</td>\n",
              "      <td>Exec-managerial</td>\n",
              "      <td>Wife</td>\n",
              "      <td>White</td>\n",
              "      <td>Female</td>\n",
              "      <td>0</td>\n",
              "      <td>0</td>\n",
              "      <td>40</td>\n",
              "      <td>United-States</td>\n",
              "      <td>&lt;=50K</td>\n",
              "    </tr>\n",
              "  </tbody>\n",
              "</table>\n",
              "</div>"
            ],
            "text/plain": [
              "   age         workclass  fnlwgt  education  education-num  \\\n",
              "0   50  Self-emp-not-inc   83311  Bachelors             13   \n",
              "1   38           Private  215646    HS-grad              9   \n",
              "2   53           Private  234721       11th              7   \n",
              "3   28           Private  338409  Bachelors             13   \n",
              "4   37           Private  284582    Masters             14   \n",
              "\n",
              "       marital-status         occupation   relationship   race     sex  \\\n",
              "0  Married-civ-spouse    Exec-managerial        Husband  White    Male   \n",
              "1            Divorced  Handlers-cleaners  Not-in-family  White    Male   \n",
              "2  Married-civ-spouse  Handlers-cleaners        Husband  Black    Male   \n",
              "3  Married-civ-spouse     Prof-specialty           Wife  Black  Female   \n",
              "4  Married-civ-spouse    Exec-managerial           Wife  White  Female   \n",
              "\n",
              "   capital-gain  capital-loss  hours-per-week native-country income  \n",
              "0             0             0              13  United-States  <=50K  \n",
              "1             0             0              40  United-States  <=50K  \n",
              "2             0             0              40  United-States  <=50K  \n",
              "3             0             0              40           Cuba  <=50K  \n",
              "4             0             0              40  United-States  <=50K  "
            ]
          },
          "execution_count": 7,
          "metadata": {},
          "output_type": "execute_result"
        }
      ],
      "source": [
        "df = df.dropna()\n",
        "df.head()"
      ]
    },
    {
      "cell_type": "code",
      "execution_count": null,
      "id": "74f4ffaf-7dc5-4974-bc47-1eb1a34bed73",
      "metadata": {
        "id": "74f4ffaf-7dc5-4974-bc47-1eb1a34bed73",
        "outputId": "325a43fa-2372-4bf3-bda9-64e0b802d3fa"
      },
      "outputs": [
        {
          "name": "stdout",
          "output_type": "stream",
          "text": [
            "age :\n",
            " [50 38 53 28 37 49 52 31 42 30 23 32 34 25 43 40 54 35 59 56 19 39 20 45\n",
            " 22 48 21 24 57 44 41 29 47 46 36 79 27 18 33 76 55 61 70 64 71 66 51 58\n",
            " 26 17 60 90 75 65 77 62 63 67 74 72 69 68 73 81 78 88 80 84 83 85 82 86]\n",
            "num_unique: 72\n",
            "\n",
            "workclass :\n",
            " ['Self-emp-not-inc' 'Private' 'State-gov' 'Federal-gov' 'Local-gov'\n",
            " 'Self-emp-inc' 'Without-pay']\n",
            "num_unique: 7\n",
            "\n",
            "fnlwgt :\n",
            " [ 83311 215646 234721 ...  84661 257302 201490]\n",
            "num_unique: 20262\n",
            "\n",
            "education :\n",
            " ['Bachelors' 'HS-grad' '11th' 'Masters' '9th' 'Some-college' 'Assoc-acdm'\n",
            " '7th-8th' 'Doctorate' 'Assoc-voc' 'Prof-school' '5th-6th' '10th'\n",
            " 'Preschool' '12th' '1st-4th']\n",
            "num_unique: 16\n",
            "\n",
            "education-num :\n",
            " [13  9  7 14  5 10 12  4 16 11 15  3  6  1  8  2]\n",
            "num_unique: 16\n",
            "\n",
            "marital-status :\n",
            " ['Married-civ-spouse' 'Divorced' 'Married-spouse-absent' 'Never-married'\n",
            " 'Separated' 'Married-AF-spouse' 'Widowed']\n",
            "num_unique: 7\n",
            "\n",
            "occupation :\n",
            " ['Exec-managerial' 'Handlers-cleaners' 'Prof-specialty' 'Other-service'\n",
            " 'Adm-clerical' 'Sales' 'Transport-moving' 'Farming-fishing'\n",
            " 'Machine-op-inspct' 'Tech-support' 'Craft-repair' 'Protective-serv'\n",
            " 'Armed-Forces' 'Priv-house-serv']\n",
            "num_unique: 14\n",
            "\n",
            "relationship :\n",
            " ['Husband' 'Not-in-family' 'Wife' 'Own-child' 'Unmarried' 'Other-relative']\n",
            "num_unique: 6\n",
            "\n",
            "race :\n",
            " ['White' 'Black' 'Asian-Pac-Islander' 'Amer-Indian-Eskimo' 'Other']\n",
            "num_unique: 5\n",
            "\n",
            "sex :\n",
            " ['Male' 'Female']\n",
            "num_unique: 2\n",
            "\n",
            "capital-gain :\n",
            " [    0 14084  5178  5013  2407 14344 15024  7688  4064  4386  7298  1409\n",
            "  3674  1055  2050  2176  2174   594 20051  6849  4101  8614  3411  2597\n",
            " 25236  4650  2463  3103 10605  2964  3325  2580  3471  4865 99999  6514\n",
            "  1471  2329  2105  2885 10520  2202  2961 27828  6767  2228  1506 13550\n",
            "  2635  5556  4787  3781  3137  3818   914   401  2829  2977  4934  2062\n",
            "  2354  3464  5455 15020  1424  3273 22040  4416 10566  4931  7430 34095\n",
            "  6497  3908   114  2346  2907  1151  9386  2414  2290  3418 15831 41310\n",
            "  4508  2538  3456  1848  3887  7896  5721  9562  6418  1455  2036  3942\n",
            "  1831 11678  2936  2993  7443  6360  4687  1797  6723  2009  3432  6097\n",
            "  1639  2653 18481 25124  7978   991  1173  2387  5060  1086]\n",
            "num_unique: 118\n",
            "\n",
            "capital-loss :\n",
            " [   0 2042 1408 1902 1887 1719 1762 1564 2179 1816 1980 1977 1876 1340\n",
            " 2206 1741 1485 2339 2415 1380 1721 2051 2377 1669 2352 1672  653 2392\n",
            " 1504 1590 1651 1628 1848 2001 1740 2002 1579 2258 1602 2547 2205 1726\n",
            " 2444 1138 2238  625  213 1539  880 1668 1092 1594 2231 1844  810 2824\n",
            " 2559 2057 1573 1974  974 2174 2149 1735 1258 2603 2282  323 2246 1617\n",
            " 1648 1825 3770 1755 3683 2129 4356 2267 2080 2457  419  155 3900 2201\n",
            " 1944 2467 2754 2472 3004 1411]\n",
            "num_unique: 90\n",
            "\n",
            "hours-per-week :\n",
            " [13 40 16 45 50 80 30 35 60 20 52 44 15 25 43 38 55 48 58 32 70 22 56 41\n",
            " 28 36 24 46  2 42 12 65  1 34 75 98 33 54 10  6 64 19 18 72  8  9 47 37\n",
            " 21 26 14  5  7 99 53 39 62 59 57 78 90 66 11 49 84 17 68  3 27 85 31 51\n",
            " 77 63 23  4 87 88 73 89 97 94 29 96 67 82 86 91 81 76 92 61 74 95]\n",
            "num_unique: 94\n",
            "\n",
            "native-country :\n",
            " ['United-States' 'Cuba' 'Jamaica' 'India' 'Mexico' 'Puerto-Rico'\n",
            " 'Honduras' 'England' 'Canada' 'Germany' 'Iran' 'Philippines' 'Poland'\n",
            " 'Columbia' 'Cambodia' 'Thailand' 'Ecuador' 'Laos' 'Taiwan' 'Haiti'\n",
            " 'Portugal' 'Dominican-Republic' 'El-Salvador' 'France' 'Guatemala'\n",
            " 'Italy' 'China' 'South' 'Japan' 'Yugoslavia' 'Peru'\n",
            " 'Outlying-US(Guam-USVI-etc)' 'Scotland' 'Trinadad&Tobago' 'Greece'\n",
            " 'Nicaragua' 'Vietnam' 'Hong' 'Ireland' 'Hungary' 'Holand-Netherlands']\n",
            "num_unique: 41\n",
            "\n",
            "income :\n",
            " ['<=50K' '>50K']\n",
            "num_unique: 2\n",
            "\n"
          ]
        }
      ],
      "source": [
        "for col in df.columns:\n",
        "    unique = df[col].unique()\n",
        "    print(col, \":\\n\", unique, end=\"\\n\")\n",
        "    print(\"num_unique:\", len(unique), end=\"\\n\\n\")"
      ]
    },
    {
      "cell_type": "code",
      "execution_count": null,
      "id": "e00e0350-8236-4348-82c2-c6ade6827405",
      "metadata": {
        "id": "e00e0350-8236-4348-82c2-c6ade6827405",
        "outputId": "d8d53edd-7ad7-41fc-bb45-58f742038bf8"
      },
      "outputs": [
        {
          "name": "stdout",
          "output_type": "stream",
          "text": [
            "Private             73.890123\n",
            "Self-emp-not-inc     8.285534\n",
            "Local-gov            6.853221\n",
            "State-gov            4.237260\n",
            "Self-emp-inc         3.560890\n",
            "Federal-gov          3.126554\n",
            "Without-pay          0.046418\n",
            "Name: workclass, dtype: float64\n",
            "\n",
            "HS-grad         32.624913\n",
            "Some-college    22.141176\n",
            "Bachelors       16.720268\n",
            "Masters          5.394383\n",
            "Assoc-voc        4.333411\n",
            "11th             3.474686\n",
            "Assoc-acdm       3.342064\n",
            "10th             2.718743\n",
            "7th-8th          1.846756\n",
            "Prof-school      1.797023\n",
            "9th              1.508571\n",
            "12th             1.249959\n",
            "Doctorate        1.243327\n",
            "5th-6th          0.954876\n",
            "1st-4th          0.500647\n",
            "Preschool        0.149199\n",
            "Name: education, dtype: float64\n",
            "\n",
            "Married-civ-spouse       46.633069\n",
            "Never-married            32.243626\n",
            "Divorced                 13.971685\n",
            "Separated                 3.113292\n",
            "Widowed                   2.741952\n",
            "Married-spouse-absent     1.226750\n",
            "Married-AF-spouse         0.069626\n",
            "Name: marital-status, dtype: float64\n",
            "\n",
            "Prof-specialty       13.388150\n",
            "Craft-repair         13.361626\n",
            "Exec-managerial      13.235635\n",
            "Adm-clerical         12.333809\n",
            "Sales                11.882895\n",
            "Other-service        10.649514\n",
            "Machine-op-inspct     6.518352\n",
            "Transport-moving      5.212029\n",
            "Handlers-cleaners     4.475979\n",
            "Farming-fishing       3.279069\n",
            "Tech-support          3.023772\n",
            "Protective-serv       2.135208\n",
            "Priv-house-serv       0.474122\n",
            "Armed-Forces          0.029840\n",
            "Name: occupation, dtype: float64\n",
            "\n",
            "Husband           41.321574\n",
            "Not-in-family     25.612546\n",
            "Own-child         14.807201\n",
            "Unmarried         10.649514\n",
            "Wife               4.661649\n",
            "Other-relative     2.947515\n",
            "Name: relationship, dtype: float64\n",
            "\n",
            "White                 85.978582\n",
            "Black                  9.339876\n",
            "Asian-Pac-Islander     2.967408\n",
            "Amer-Indian-Eskimo     0.948244\n",
            "Other                  0.765890\n",
            "Name: race, dtype: float64\n",
            "\n",
            "Male      67.567388\n",
            "Female    32.432612\n",
            "Name: sex, dtype: float64\n",
            "\n",
            "United-States                 91.187295\n",
            "Mexico                         2.022479\n",
            "Philippines                    0.623322\n",
            "Germany                        0.424389\n",
            "Puerto-Rico                    0.361394\n",
            "Canada                         0.354763\n",
            "India                          0.331554\n",
            "El-Salvador                    0.331554\n",
            "Cuba                           0.305030\n",
            "England                        0.285136\n",
            "Jamaica                        0.265243\n",
            "South                          0.235403\n",
            "China                          0.225457\n",
            "Italy                          0.225457\n",
            "Dominican-Republic             0.222141\n",
            "Vietnam                        0.212195\n",
            "Guatemala                      0.208879\n",
            "Japan                          0.195617\n",
            "Poland                         0.185670\n",
            "Columbia                       0.185670\n",
            "Iran                           0.139253\n",
            "Taiwan                         0.139253\n",
            "Haiti                          0.139253\n",
            "Portugal                       0.112728\n",
            "Nicaragua                      0.109413\n",
            "Peru                           0.099466\n",
            "Greece                         0.096151\n",
            "France                         0.089520\n",
            "Ecuador                        0.089520\n",
            "Ireland                        0.079573\n",
            "Hong                           0.062995\n",
            "Cambodia                       0.059680\n",
            "Trinadad&Tobago                0.059680\n",
            "Thailand                       0.056364\n",
            "Laos                           0.056364\n",
            "Yugoslavia                     0.053049\n",
            "Outlying-US(Guam-USVI-etc)     0.046418\n",
            "Hungary                        0.043102\n",
            "Honduras                       0.039786\n",
            "Scotland                       0.036471\n",
            "Holand-Netherlands             0.003316\n",
            "Name: native-country, dtype: float64\n",
            "\n"
          ]
        }
      ],
      "source": [
        "for col in [\"workclass\", \"education\", \"marital-status\", \"occupation\", \"relationship\", \"race\", \"sex\", \"native-country\"]:\n",
        "    print(100 * df[col].value_counts() / len(df[col]), end=\"\\n\\n\")"
      ]
    },
    {
      "cell_type": "code",
      "execution_count": null,
      "id": "a7aa81bb-9587-4145-8be3-7c1b872f314d",
      "metadata": {
        "id": "a7aa81bb-9587-4145-8be3-7c1b872f314d",
        "outputId": "ee073089-0d81-40b7-dc6f-5c55d47a9603"
      },
      "outputs": [
        {
          "data": {
            "text/plain": [
              "United-States         27503\n",
              "Mexico                  610\n",
              "other                   293\n",
              "Philippines             188\n",
              "Germany                 128\n",
              "Puerto-Rico             109\n",
              "Canada                  107\n",
              "India                   100\n",
              "El-Salvador             100\n",
              "Cuba                     92\n",
              "England                  86\n",
              "Jamaica                  80\n",
              "South                    71\n",
              "China                    68\n",
              "Italy                    68\n",
              "Dominican-Republic       67\n",
              "Vietnam                  64\n",
              "Guatemala                63\n",
              "Japan                    59\n",
              "Poland                   56\n",
              "Columbia                 56\n",
              "Haiti                    42\n",
              "Taiwan                   42\n",
              "Iran                     42\n",
              "Portugal                 34\n",
              "Nicaragua                33\n",
              "Name: native-country, dtype: int64"
            ]
          },
          "execution_count": 10,
          "metadata": {},
          "output_type": "execute_result"
        }
      ],
      "source": [
        "values = [\"Peru\", \"Greece\", \"France\", \"Ecuador\", \"Ireland\", \"Hong\", \"Cambodia\", \"Trinadad&Tobago\", \"Thailand\", \"Laos\", \"Yugoslavia\", \"Outlying-US(Guam-USVI-etc)\", \"Hungary\", \"Honduras\", \"Honduras\", \"Scotland\", \"Holand-Netherlands\"]\n",
        "df[\"native-country\"] = df[\"native-country\"].map(lambda x: \"other\" if x in values else x)\n",
        "df[\"native-country\"].value_counts()"
      ]
    },
    {
      "cell_type": "code",
      "execution_count": null,
      "id": "c43a05c2-de45-44c8-8521-694e91cfbe64",
      "metadata": {
        "id": "c43a05c2-de45-44c8-8521-694e91cfbe64",
        "outputId": "7eb521df-ca7b-471c-8a4c-e89c10c1d6c6"
      },
      "outputs": [
        {
          "data": {
            "text/plain": [
              "Married-civ-spouse    14065\n",
              "Never-married          9725\n",
              "Divorced               4214\n",
              "Separated               939\n",
              "Widowed                 827\n",
              "other                   391\n",
              "Name: marital-status, dtype: int64"
            ]
          },
          "execution_count": 11,
          "metadata": {},
          "output_type": "execute_result"
        }
      ],
      "source": [
        "values = [\"Married-spouse-absent\", \"Married-AF-spouse\"]\n",
        "df[\"marital-status\"] = df[\"marital-status\"].map(lambda x: \"other\" if x in values else x)\n",
        "df[\"marital-status\"].value_counts()"
      ]
    },
    {
      "cell_type": "code",
      "execution_count": null,
      "id": "17c615d8-f26f-47ec-bcd5-be92a8a61867",
      "metadata": {
        "id": "17c615d8-f26f-47ec-bcd5-be92a8a61867",
        "outputId": "6d986c9a-1624-4b7e-b3b2-cef12bf58b57"
      },
      "outputs": [
        {
          "data": {
            "text/plain": [
              "HS-grad         9840\n",
              "Some-college    6678\n",
              "Bachelors       5043\n",
              "Masters         1627\n",
              "Assoc-voc       1307\n",
              "11th            1048\n",
              "Assoc-acdm      1008\n",
              "10th             820\n",
              "7th-8th          557\n",
              "Prof-school      542\n",
              "other            484\n",
              "9th              455\n",
              "12th             377\n",
              "Doctorate        375\n",
              "Name: education, dtype: int64"
            ]
          },
          "execution_count": 12,
          "metadata": {},
          "output_type": "execute_result"
        }
      ],
      "source": [
        "values = [\"5th-6th\", \"1st-4th\", \"Preschool\"]\n",
        "df[\"education\"] = df[\"education\"].map(lambda x: \"other\" if x in values else x)\n",
        "df[\"education\"].value_counts()"
      ]
    },
    {
      "cell_type": "code",
      "execution_count": null,
      "id": "f93b1ba5-2a99-4e0f-9034-e4347b6800ba",
      "metadata": {
        "id": "f93b1ba5-2a99-4e0f-9034-e4347b6800ba",
        "outputId": "6da0cc75-5a49-450a-c036-5e739c366398"
      },
      "outputs": [
        {
          "name": "stdout",
          "output_type": "stream",
          "text": [
            "<=50K    75.106926\n",
            ">50K     24.893074\n",
            "Name: income, dtype: float64\n",
            "\n"
          ]
        }
      ],
      "source": [
        "print(100 * df[\"income\"].value_counts() / len(df[\"income\"]), end=\"\\n\\n\")"
      ]
    },
    {
      "cell_type": "code",
      "execution_count": null,
      "id": "d82e94b3-0531-42dc-8c2c-04a32f408f5d",
      "metadata": {
        "id": "d82e94b3-0531-42dc-8c2c-04a32f408f5d"
      },
      "outputs": [],
      "source": [
        "def bar_chart(feature, df):\n",
        "    over = df[df['income'] == \">50K\"][feature].value_counts()\n",
        "    below = df[df['income'] == \"<=50K\"][feature].value_counts()\n",
        "    df = pd.DataFrame([over, below])\n",
        "    df.index = ['Over 50K', 'Below 50K']\n",
        "    df.plot(kind='bar', stacked=True, figsize=(10, 5), ylabel=\"Frequency\", title=f\"Bar chart for Income conditioned over {feature}\")"
      ]
    },
    {
      "cell_type": "code",
      "execution_count": null,
      "id": "652493c1-9d27-41e3-9910-e439d7964c46",
      "metadata": {
        "id": "652493c1-9d27-41e3-9910-e439d7964c46",
        "outputId": "fd0efcab-5fc6-4543-cdae-c64140f0c7f0"
      },
      "outputs": [
        {
          "data": {
            "image/png": "[encoded data removed]",
            "text/plain": [
              "<Figure size 720x360 with 1 Axes>"
            ]
          },
          "metadata": {
            "needs_background": "light"
          },
          "output_type": "display_data"
        }
      ],
      "source": [
        "bar_chart(\"education\", df)"
      ]
    },
    {
      "cell_type": "code",
      "execution_count": null,
      "id": "692f5138-bdf0-4e36-9d78-33478abf51bd",
      "metadata": {
        "id": "692f5138-bdf0-4e36-9d78-33478abf51bd",
        "outputId": "8f7fee72-30d5-45a3-fb75-520ff427aa76"
      },
      "outputs": [
        {
          "data": {
            "image/png": "[encoded data removed]",
            "text/plain": [
              "<Figure size 720x360 with 1 Axes>"
            ]
          },
          "metadata": {
            "needs_background": "light"
          },
          "output_type": "display_data"
        }
      ],
      "source": [
        "bar_chart(\"marital-status\", df)"
      ]
    },
    {
      "cell_type": "code",
      "execution_count": null,
      "id": "9ec0ec23-c2a5-41b7-8df9-b214d0852b79",
      "metadata": {
        "id": "9ec0ec23-c2a5-41b7-8df9-b214d0852b79",
        "outputId": "c5230d25-55e4-4b48-a365-ac06112f492c"
      },
      "outputs": [
        {
          "data": {
            "image/png": "[encoded data removed]",
            "text/plain": [
              "<Figure size 720x360 with 1 Axes>"
            ]
          },
          "metadata": {
            "needs_background": "light"
          },
          "output_type": "display_data"
        }
      ],
      "source": [
        "bar_chart(\"workclass\", df)"
      ]
    },
    {
      "cell_type": "code",
      "execution_count": null,
      "id": "36b82398-c9c2-4b54-acae-65d8e949d2a2",
      "metadata": {
        "id": "36b82398-c9c2-4b54-acae-65d8e949d2a2",
        "outputId": "ea1f0de5-5839-494d-85d0-0a78f12d1f35"
      },
      "outputs": [
        {
          "data": {
            "image/png": "[encoded data removed]",
            "text/plain": [
              "<Figure size 720x360 with 1 Axes>"
            ]
          },
          "metadata": {
            "needs_background": "light"
          },
          "output_type": "display_data"
        }
      ],
      "source": [
        "bar_chart(\"occupation\", df)"
      ]
    },
    {
      "cell_type": "code",
      "execution_count": null,
      "id": "bc0bad79-ade2-4d81-9fc9-42e0124479a7",
      "metadata": {
        "id": "bc0bad79-ade2-4d81-9fc9-42e0124479a7",
        "outputId": "8b6b2543-f89e-48ed-ca29-ef4ae78842a3"
      },
      "outputs": [
        {
          "data": {
            "image/png": "[encoded data removed]",
            "text/plain": [
              "<Figure size 720x360 with 1 Axes>"
            ]
          },
          "metadata": {
            "needs_background": "light"
          },
          "output_type": "display_data"
        }
      ],
      "source": [
        "bar_chart(\"race\", df)"
      ]
    },
    {
      "cell_type": "code",
      "execution_count": null,
      "id": "df0d9178-c6a2-48dc-8daf-af17707e361a",
      "metadata": {
        "id": "df0d9178-c6a2-48dc-8daf-af17707e361a",
        "outputId": "259ca408-b382-4dda-a55a-7052d97ce0d3"
      },
      "outputs": [
        {
          "data": {
            "image/png": "[encoded data removed]",
            "text/plain": [
              "<Figure size 720x360 with 1 Axes>"
            ]
          },
          "metadata": {
            "needs_background": "light"
          },
          "output_type": "display_data"
        }
      ],
      "source": [
        "bar_chart(\"native-country\", df)"
      ]
    },
    {
      "cell_type": "code",
      "execution_count": null,
      "id": "4c8dffe8-5027-4070-933e-2c9ff93ed281",
      "metadata": {
        "id": "4c8dffe8-5027-4070-933e-2c9ff93ed281",
        "outputId": "8d010932-5e6a-4e8c-b829-9a7d4fb37160"
      },
      "outputs": [
        {
          "data": {
            "image/png": "[encoded data removed]",
            "text/plain": [
              "<Figure size 720x360 with 1 Axes>"
            ]
          },
          "metadata": {
            "needs_background": "light"
          },
          "output_type": "display_data"
        }
      ],
      "source": [
        "bar_chart(\"sex\", df)"
      ]
    },
    {
      "cell_type": "code",
      "execution_count": null,
      "id": "5046ea23-bdf0-41b7-b8d0-efc8896b2081",
      "metadata": {
        "id": "5046ea23-bdf0-41b7-b8d0-efc8896b2081",
        "outputId": "e8ed30d1-82d9-4661-f99d-9f3785ceabb7"
      },
      "outputs": [
        {
          "data": {
            "text/plain": [
              "Index(['age', 'workclass', 'fnlwgt', 'education', 'education-num',\n",
              "       'marital-status', 'occupation', 'relationship', 'race', 'sex',\n",
              "       'capital-gain', 'capital-loss', 'hours-per-week', 'native-country',\n",
              "       'income'],\n",
              "      dtype='object')"
            ]
          },
          "execution_count": 22,
          "metadata": {},
          "output_type": "execute_result"
        }
      ],
      "source": [
        "df.columns"
      ]
    },
    {
      "cell_type": "code",
      "execution_count": null,
      "id": "972e0557-c300-4a1a-a32c-3518c78bfd9b",
      "metadata": {
        "id": "972e0557-c300-4a1a-a32c-3518c78bfd9b",
        "outputId": "df0f03f6-38f6-4156-cfdd-73bc9dab78a9"
      },
      "outputs": [
        {
          "data": {
            "image/png": "[encoded data removed]",
            "text/plain": [
              "<Figure size 432x288 with 2 Axes>"
            ]
          },
          "metadata": {
            "needs_background": "light"
          },
          "output_type": "display_data"
        }
      ],
      "source": [
        "columns = [\"age\", \"fnlwgt\", \"hours-per-week\", \"education-num\"]\n",
        "\n",
        "info = np.corrcoef(df.loc[df[\"income\"] == \">50K\", columns].values.T)\n",
        "sns.heatmap(info, cbar=True, annot=True, square=True, fmt='.2f', annot_kws={'size':12}, yticklabels=columns, xticklabels=columns)\n",
        "plt.show()"
      ]
    },
    {
      "cell_type": "code",
      "execution_count": null,
      "id": "76aaa279-7ddb-41d1-96a5-e6eb4afe4838",
      "metadata": {
        "id": "76aaa279-7ddb-41d1-96a5-e6eb4afe4838",
        "outputId": "12c59535-b661-474d-fe98-ea77e3beb511"
      },
      "outputs": [
        {
          "data": {
            "image/png": "[encoded data removed]",
            "text/plain": [
              "<Figure size 432x288 with 2 Axes>"
            ]
          },
          "metadata": {
            "needs_background": "light"
          },
          "output_type": "display_data"
        }
      ],
      "source": [
        "info = np.corrcoef(df.loc[df[\"income\"] == \"<=50K\", columns].values.T)\n",
        "sns.heatmap(info, cbar=True, annot=True, square=True, fmt='.2f', annot_kws={'size':12}, yticklabels=columns, xticklabels=columns)\n",
        "plt.show()"
      ]
    },
    {
      "cell_type": "code",
      "execution_count": null,
      "id": "1def41e4-9587-456a-80be-d71ee3ff8200",
      "metadata": {
        "id": "1def41e4-9587-456a-80be-d71ee3ff8200"
      },
      "outputs": [],
      "source": [
        "df.drop([\"education-num\"], inplace=True, axis=1)"
      ]
    },
    {
      "cell_type": "code",
      "execution_count": null,
      "id": "ebeb714e-c543-45d3-a7c7-f99cc5b4127e",
      "metadata": {
        "id": "ebeb714e-c543-45d3-a7c7-f99cc5b4127e",
        "outputId": "d1c9c68f-7f58-4c15-d9bb-40086935e9e9"
      },
      "outputs": [
        {
          "data": {
            "text/html": [
              "<div>\n",
              "<style scoped>\n",
              "    .dataframe tbody tr th:only-of-type {\n",
              "        vertical-align: middle;\n",
              "    }\n",
              "\n",
              "    .dataframe tbody tr th {\n",
              "        vertical-align: top;\n",
              "    }\n",
              "\n",
              "    .dataframe thead th {\n",
              "        text-align: right;\n",
              "    }\n",
              "</style>\n",
              "<table border=\"1\" class=\"dataframe\">\n",
              "  <thead>\n",
              "    <tr style=\"text-align: right;\">\n",
              "      <th></th>\n",
              "      <th>age</th>\n",
              "      <th>fnlwgt</th>\n",
              "      <th>capital-gain</th>\n",
              "      <th>capital-loss</th>\n",
              "      <th>hours-per-week</th>\n",
              "      <th>income</th>\n",
              "      <th>workclass_Federal-gov</th>\n",
              "      <th>workclass_Local-gov</th>\n",
              "      <th>workclass_Private</th>\n",
              "      <th>workclass_Self-emp-inc</th>\n",
              "      <th>...</th>\n",
              "      <th>education_9th</th>\n",
              "      <th>education_Assoc-acdm</th>\n",
              "      <th>education_Assoc-voc</th>\n",
              "      <th>education_Bachelors</th>\n",
              "      <th>education_Doctorate</th>\n",
              "      <th>education_HS-grad</th>\n",
              "      <th>education_Masters</th>\n",
              "      <th>education_Prof-school</th>\n",
              "      <th>education_Some-college</th>\n",
              "      <th>education_other</th>\n",
              "    </tr>\n",
              "  </thead>\n",
              "  <tbody>\n",
              "    <tr>\n",
              "      <th>0</th>\n",
              "      <td>50</td>\n",
              "      <td>83311</td>\n",
              "      <td>0</td>\n",
              "      <td>0</td>\n",
              "      <td>13</td>\n",
              "      <td>&lt;=50K</td>\n",
              "      <td>0</td>\n",
              "      <td>0</td>\n",
              "      <td>0</td>\n",
              "      <td>0</td>\n",
              "      <td>...</td>\n",
              "      <td>0</td>\n",
              "      <td>0</td>\n",
              "      <td>0</td>\n",
              "      <td>1</td>\n",
              "      <td>0</td>\n",
              "      <td>0</td>\n",
              "      <td>0</td>\n",
              "      <td>0</td>\n",
              "      <td>0</td>\n",
              "      <td>0</td>\n",
              "    </tr>\n",
              "    <tr>\n",
              "      <th>1</th>\n",
              "      <td>38</td>\n",
              "      <td>215646</td>\n",
              "      <td>0</td>\n",
              "      <td>0</td>\n",
              "      <td>40</td>\n",
              "      <td>&lt;=50K</td>\n",
              "      <td>0</td>\n",
              "      <td>0</td>\n",
              "      <td>1</td>\n",
              "      <td>0</td>\n",
              "      <td>...</td>\n",
              "      <td>0</td>\n",
              "      <td>0</td>\n",
              "      <td>0</td>\n",
              "      <td>0</td>\n",
              "      <td>0</td>\n",
              "      <td>1</td>\n",
              "      <td>0</td>\n",
              "      <td>0</td>\n",
              "      <td>0</td>\n",
              "      <td>0</td>\n",
              "    </tr>\n",
              "    <tr>\n",
              "      <th>2</th>\n",
              "      <td>53</td>\n",
              "      <td>234721</td>\n",
              "      <td>0</td>\n",
              "      <td>0</td>\n",
              "      <td>40</td>\n",
              "      <td>&lt;=50K</td>\n",
              "      <td>0</td>\n",
              "      <td>0</td>\n",
              "      <td>1</td>\n",
              "      <td>0</td>\n",
              "      <td>...</td>\n",
              "      <td>0</td>\n",
              "      <td>0</td>\n",
              "      <td>0</td>\n",
              "      <td>0</td>\n",
              "      <td>0</td>\n",
              "      <td>0</td>\n",
              "      <td>0</td>\n",
              "      <td>0</td>\n",
              "      <td>0</td>\n",
              "      <td>0</td>\n",
              "    </tr>\n",
              "    <tr>\n",
              "      <th>3</th>\n",
              "      <td>28</td>\n",
              "      <td>338409</td>\n",
              "      <td>0</td>\n",
              "      <td>0</td>\n",
              "      <td>40</td>\n",
              "      <td>&lt;=50K</td>\n",
              "      <td>0</td>\n",
              "      <td>0</td>\n",
              "      <td>1</td>\n",
              "      <td>0</td>\n",
              "      <td>...</td>\n",
              "      <td>0</td>\n",
              "      <td>0</td>\n",
              "      <td>0</td>\n",
              "      <td>1</td>\n",
              "      <td>0</td>\n",
              "      <td>0</td>\n",
              "      <td>0</td>\n",
              "      <td>0</td>\n",
              "      <td>0</td>\n",
              "      <td>0</td>\n",
              "    </tr>\n",
              "    <tr>\n",
              "      <th>4</th>\n",
              "      <td>37</td>\n",
              "      <td>284582</td>\n",
              "      <td>0</td>\n",
              "      <td>0</td>\n",
              "      <td>40</td>\n",
              "      <td>&lt;=50K</td>\n",
              "      <td>0</td>\n",
              "      <td>0</td>\n",
              "      <td>1</td>\n",
              "      <td>0</td>\n",
              "      <td>...</td>\n",
              "      <td>0</td>\n",
              "      <td>0</td>\n",
              "      <td>0</td>\n",
              "      <td>0</td>\n",
              "      <td>0</td>\n",
              "      <td>0</td>\n",
              "      <td>1</td>\n",
              "      <td>0</td>\n",
              "      <td>0</td>\n",
              "      <td>0</td>\n",
              "    </tr>\n",
              "    <tr>\n",
              "      <th>...</th>\n",
              "      <td>...</td>\n",
              "      <td>...</td>\n",
              "      <td>...</td>\n",
              "      <td>...</td>\n",
              "      <td>...</td>\n",
              "      <td>...</td>\n",
              "      <td>...</td>\n",
              "      <td>...</td>\n",
              "      <td>...</td>\n",
              "      <td>...</td>\n",
              "      <td>...</td>\n",
              "      <td>...</td>\n",
              "      <td>...</td>\n",
              "      <td>...</td>\n",
              "      <td>...</td>\n",
              "      <td>...</td>\n",
              "      <td>...</td>\n",
              "      <td>...</td>\n",
              "      <td>...</td>\n",
              "      <td>...</td>\n",
              "      <td>...</td>\n",
              "    </tr>\n",
              "    <tr>\n",
              "      <th>32555</th>\n",
              "      <td>27</td>\n",
              "      <td>257302</td>\n",
              "      <td>0</td>\n",
              "      <td>0</td>\n",
              "      <td>38</td>\n",
              "      <td>&lt;=50K</td>\n",
              "      <td>0</td>\n",
              "      <td>0</td>\n",
              "      <td>1</td>\n",
              "      <td>0</td>\n",
              "      <td>...</td>\n",
              "      <td>0</td>\n",
              "      <td>1</td>\n",
              "      <td>0</td>\n",
              "      <td>0</td>\n",
              "      <td>0</td>\n",
              "      <td>0</td>\n",
              "      <td>0</td>\n",
              "      <td>0</td>\n",
              "      <td>0</td>\n",
              "      <td>0</td>\n",
              "    </tr>\n",
              "    <tr>\n",
              "      <th>32556</th>\n",
              "      <td>40</td>\n",
              "      <td>154374</td>\n",
              "      <td>0</td>\n",
              "      <td>0</td>\n",
              "      <td>40</td>\n",
              "      <td>&gt;50K</td>\n",
              "      <td>0</td>\n",
              "      <td>0</td>\n",
              "      <td>1</td>\n",
              "      <td>0</td>\n",
              "      <td>...</td>\n",
              "      <td>0</td>\n",
              "      <td>0</td>\n",
              "      <td>0</td>\n",
              "      <td>0</td>\n",
              "      <td>0</td>\n",
              "      <td>1</td>\n",
              "      <td>0</td>\n",
              "      <td>0</td>\n",
              "      <td>0</td>\n",
              "      <td>0</td>\n",
              "    </tr>\n",
              "    <tr>\n",
              "      <th>32557</th>\n",
              "      <td>58</td>\n",
              "      <td>151910</td>\n",
              "      <td>0</td>\n",
              "      <td>0</td>\n",
              "      <td>40</td>\n",
              "      <td>&lt;=50K</td>\n",
              "      <td>0</td>\n",
              "      <td>0</td>\n",
              "      <td>1</td>\n",
              "      <td>0</td>\n",
              "      <td>...</td>\n",
              "      <td>0</td>\n",
              "      <td>0</td>\n",
              "      <td>0</td>\n",
              "      <td>0</td>\n",
              "      <td>0</td>\n",
              "      <td>1</td>\n",
              "      <td>0</td>\n",
              "      <td>0</td>\n",
              "      <td>0</td>\n",
              "      <td>0</td>\n",
              "    </tr>\n",
              "    <tr>\n",
              "      <th>32558</th>\n",
              "      <td>22</td>\n",
              "      <td>201490</td>\n",
              "      <td>0</td>\n",
              "      <td>0</td>\n",
              "      <td>20</td>\n",
              "      <td>&lt;=50K</td>\n",
              "      <td>0</td>\n",
              "      <td>0</td>\n",
              "      <td>1</td>\n",
              "      <td>0</td>\n",
              "      <td>...</td>\n",
              "      <td>0</td>\n",
              "      <td>0</td>\n",
              "      <td>0</td>\n",
              "      <td>0</td>\n",
              "      <td>0</td>\n",
              "      <td>1</td>\n",
              "      <td>0</td>\n",
              "      <td>0</td>\n",
              "      <td>0</td>\n",
              "      <td>0</td>\n",
              "    </tr>\n",
              "    <tr>\n",
              "      <th>32559</th>\n",
              "      <td>52</td>\n",
              "      <td>287927</td>\n",
              "      <td>15024</td>\n",
              "      <td>0</td>\n",
              "      <td>40</td>\n",
              "      <td>&gt;50K</td>\n",
              "      <td>0</td>\n",
              "      <td>0</td>\n",
              "      <td>0</td>\n",
              "      <td>1</td>\n",
              "      <td>...</td>\n",
              "      <td>0</td>\n",
              "      <td>0</td>\n",
              "      <td>0</td>\n",
              "      <td>0</td>\n",
              "      <td>0</td>\n",
              "      <td>1</td>\n",
              "      <td>0</td>\n",
              "      <td>0</td>\n",
              "      <td>0</td>\n",
              "      <td>0</td>\n",
              "    </tr>\n",
              "  </tbody>\n",
              "</table>\n",
              "<p>30161 rows × 86 columns</p>\n",
              "</div>"
            ],
            "text/plain": [
              "       age  fnlwgt  capital-gain  capital-loss  hours-per-week income  \\\n",
              "0       50   83311             0             0              13  <=50K   \n",
              "1       38  215646             0             0              40  <=50K   \n",
              "2       53  234721             0             0              40  <=50K   \n",
              "3       28  338409             0             0              40  <=50K   \n",
              "4       37  284582             0             0              40  <=50K   \n",
              "...    ...     ...           ...           ...             ...    ...   \n",
              "32555   27  257302             0             0              38  <=50K   \n",
              "32556   40  154374             0             0              40   >50K   \n",
              "32557   58  151910             0             0              40  <=50K   \n",
              "32558   22  201490             0             0              20  <=50K   \n",
              "32559   52  287927         15024             0              40   >50K   \n",
              "\n",
              "       workclass_Federal-gov  workclass_Local-gov  workclass_Private  \\\n",
              "0                          0                    0                  0   \n",
              "1                          0                    0                  1   \n",
              "2                          0                    0                  1   \n",
              "3                          0                    0                  1   \n",
              "4                          0                    0                  1   \n",
              "...                      ...                  ...                ...   \n",
              "32555                      0                    0                  1   \n",
              "32556                      0                    0                  1   \n",
              "32557                      0                    0                  1   \n",
              "32558                      0                    0                  1   \n",
              "32559                      0                    0                  0   \n",
              "\n",
              "       workclass_Self-emp-inc  ...  education_9th  education_Assoc-acdm  \\\n",
              "0                           0  ...              0                     0   \n",
              "1                           0  ...              0                     0   \n",
              "2                           0  ...              0                     0   \n",
              "3                           0  ...              0                     0   \n",
              "4                           0  ...              0                     0   \n",
              "...                       ...  ...            ...                   ...   \n",
              "32555                       0  ...              0                     1   \n",
              "32556                       0  ...              0                     0   \n",
              "32557                       0  ...              0                     0   \n",
              "32558                       0  ...              0                     0   \n",
              "32559                       1  ...              0                     0   \n",
              "\n",
              "       education_Assoc-voc  education_Bachelors  education_Doctorate  \\\n",
              "0                        0                    1                    0   \n",
              "1                        0                    0                    0   \n",
              "2                        0                    0                    0   \n",
              "3                        0                    1                    0   \n",
              "4                        0                    0                    0   \n",
              "...                    ...                  ...                  ...   \n",
              "32555                    0                    0                    0   \n",
              "32556                    0                    0                    0   \n",
              "32557                    0                    0                    0   \n",
              "32558                    0                    0                    0   \n",
              "32559                    0                    0                    0   \n",
              "\n",
              "       education_HS-grad  education_Masters  education_Prof-school  \\\n",
              "0                      0                  0                      0   \n",
              "1                      1                  0                      0   \n",
              "2                      0                  0                      0   \n",
              "3                      0                  0                      0   \n",
              "4                      0                  1                      0   \n",
              "...                  ...                ...                    ...   \n",
              "32555                  0                  0                      0   \n",
              "32556                  1                  0                      0   \n",
              "32557                  1                  0                      0   \n",
              "32558                  1                  0                      0   \n",
              "32559                  1                  0                      0   \n",
              "\n",
              "       education_Some-college  education_other  \n",
              "0                           0                0  \n",
              "1                           0                0  \n",
              "2                           0                0  \n",
              "3                           0                0  \n",
              "4                           0                0  \n",
              "...                       ...              ...  \n",
              "32555                       0                0  \n",
              "32556                       0                0  \n",
              "32557                       0                0  \n",
              "32558                       0                0  \n",
              "32559                       0                0  \n",
              "\n",
              "[30161 rows x 86 columns]"
            ]
          },
          "execution_count": 26,
          "metadata": {},
          "output_type": "execute_result"
        }
      ],
      "source": [
        "df = pd.get_dummies(df, columns=[\"workclass\", \"native-country\", \"sex\", \"race\", \"relationship\", \"occupation\", \"marital-status\", \"education\"])\n",
        "df"
      ]
    },
    {
      "cell_type": "code",
      "execution_count": null,
      "id": "5afc028d-bdee-4f5a-b372-dbfdeb258951",
      "metadata": {
        "id": "5afc028d-bdee-4f5a-b372-dbfdeb258951",
        "outputId": "fe3c7cc7-a1b2-45d8-88b7-ec192b836632"
      },
      "outputs": [
        {
          "data": {
            "text/plain": [
              "array([0, 1])"
            ]
          },
          "execution_count": 27,
          "metadata": {},
          "output_type": "execute_result"
        }
      ],
      "source": [
        "df[\"income\"] = df[\"income\"].map(lambda x: 1 if x == \">50K\" else 0)\n",
        "df[\"income\"].unique()"
      ]
    },
    {
      "cell_type": "code",
      "execution_count": null,
      "id": "e5212ecf-2b48-4529-9da4-9b1b2d410dbf",
      "metadata": {
        "id": "e5212ecf-2b48-4529-9da4-9b1b2d410dbf",
        "outputId": "f4d44ea6-6696-474b-8b9d-e61a4588d0c1"
      },
      "outputs": [
        {
          "data": {
            "text/plain": [
              "((24128, 85), (24128,), (6033, 85), (6033,))"
            ]
          },
          "execution_count": 28,
          "metadata": {},
          "output_type": "execute_result"
        }
      ],
      "source": [
        "from sklearn.model_selection import train_test_split\n",
        "\n",
        "X = df.drop(\"income\", axis=1)\n",
        "y = df[\"income\"].values\n",
        "\n",
        "X_train, X_val, y_train, y_val = train_test_split(X, y, test_size=0.2)\n",
        "X_train.shape, y_train.shape, X_val.shape, y_val.shape"
      ]
    },
    {
      "cell_type": "code",
      "execution_count": null,
      "id": "1f1dde4c-8968-406a-a2e6-3cb7b06c44eb",
      "metadata": {
        "id": "1f1dde4c-8968-406a-a2e6-3cb7b06c44eb",
        "outputId": "6e92401a-b1e9-492d-8afd-fbedddea635c"
      },
      "outputs": [
        {
          "data": {
            "text/plain": [
              "((6037,), (18091,))"
            ]
          },
          "execution_count": 29,
          "metadata": {},
          "output_type": "execute_result"
        }
      ],
      "source": [
        "y_train[y_train == 1].shape, y_train[y_train == 0].shape"
      ]
    },
    {
      "cell_type": "markdown",
      "id": "ec8fb122-5267-4da9-bce8-c9c0dd8879a6",
      "metadata": {
        "id": "ec8fb122-5267-4da9-bce8-c9c0dd8879a6"
      },
      "source": [
        "## Model Fitting & Analysis"
      ]
    },
    {
      "cell_type": "code",
      "execution_count": null,
      "id": "77297005-9805-4448-9fc0-b5a1df555319",
      "metadata": {
        "id": "77297005-9805-4448-9fc0-b5a1df555319",
        "outputId": "20456c24-9513-4605-d821-261d40a70d34"
      },
      "outputs": [
        {
          "data": {
            "text/plain": [
              "GaussianNB()"
            ]
          },
          "execution_count": 30,
          "metadata": {},
          "output_type": "execute_result"
        }
      ],
      "source": [
        "from sklearn.naive_bayes import GaussianNB\n",
        "\n",
        "model = GaussianNB()\n",
        "model.fit(X_train, y_train)"
      ]
    },
    {
      "cell_type": "code",
      "execution_count": null,
      "id": "18a32e24-26e5-4b6e-b32f-6ac83d159d64",
      "metadata": {
        "id": "18a32e24-26e5-4b6e-b32f-6ac83d159d64",
        "outputId": "62bb07b7-86ad-455e-b04b-3413a094ca8e"
      },
      "outputs": [
        {
          "data": {
            "text/plain": [
              "(array([0, 0, 0, ..., 0, 0, 1]),\n",
              " array([[9.92681588e-01, 7.31841246e-03],\n",
              "        [9.74016223e-01, 2.59837770e-02],\n",
              "        [9.94292816e-01, 5.70718361e-03],\n",
              "        ...,\n",
              "        [9.98904562e-01, 1.09543839e-03],\n",
              "        [9.79265653e-01, 2.07343470e-02],\n",
              "        [7.24520315e-09, 9.99999993e-01]]))"
            ]
          },
          "execution_count": 31,
          "metadata": {},
          "output_type": "execute_result"
        }
      ],
      "source": [
        "y_pred = model.predict(X_val)\n",
        "y_probs = model.predict_proba(X_val)\n",
        "y_pred, y_probs"
      ]
    },
    {
      "cell_type": "code",
      "execution_count": null,
      "id": "7596823d-cb7a-4aa7-8b47-35c37bfad060",
      "metadata": {
        "id": "7596823d-cb7a-4aa7-8b47-35c37bfad060",
        "outputId": "27f5b94d-f17e-4f9f-e415-afb1796679bb"
      },
      "outputs": [
        {
          "data": {
            "text/plain": [
              "79.36350074589757"
            ]
          },
          "execution_count": 32,
          "metadata": {},
          "output_type": "execute_result"
        }
      ],
      "source": [
        "accuracy = np.mean(y_pred == y_val) * 100\n",
        "accuracy"
      ]
    },
    {
      "cell_type": "code",
      "execution_count": null,
      "id": "4513b1c2-cc82-4db9-89fc-4c2635c03eb3",
      "metadata": {
        "id": "4513b1c2-cc82-4db9-89fc-4c2635c03eb3",
        "outputId": "e6de4501-9658-49ab-9679-268cbf822520"
      },
      "outputs": [
        {
          "data": {
            "text/html": [
              "<div>\n",
              "<style scoped>\n",
              "    .dataframe tbody tr th:only-of-type {\n",
              "        vertical-align: middle;\n",
              "    }\n",
              "\n",
              "    .dataframe tbody tr th {\n",
              "        vertical-align: top;\n",
              "    }\n",
              "\n",
              "    .dataframe thead th {\n",
              "        text-align: right;\n",
              "    }\n",
              "</style>\n",
              "<table border=\"1\" class=\"dataframe\">\n",
              "  <thead>\n",
              "    <tr style=\"text-align: right;\">\n",
              "      <th></th>\n",
              "      <th>Predicted Positive</th>\n",
              "      <th>Predicted Negative</th>\n",
              "    </tr>\n",
              "  </thead>\n",
              "  <tbody>\n",
              "    <tr>\n",
              "      <th>Actual Positive</th>\n",
              "      <td>4335</td>\n",
              "      <td>227</td>\n",
              "    </tr>\n",
              "    <tr>\n",
              "      <th>Actual Negative</th>\n",
              "      <td>1018</td>\n",
              "      <td>453</td>\n",
              "    </tr>\n",
              "  </tbody>\n",
              "</table>\n",
              "</div>"
            ],
            "text/plain": [
              "                 Predicted Positive  Predicted Negative\n",
              "Actual Positive                4335                 227\n",
              "Actual Negative                1018                 453"
            ]
          },
          "execution_count": 33,
          "metadata": {},
          "output_type": "execute_result"
        }
      ],
      "source": [
        "from sklearn.metrics import confusion_matrix\n",
        "\n",
        "pd.DataFrame(confusion_matrix(y_val, y_pred), index=[\"Actual Positive\", \"Actual Negative\"], columns=[\"Predicted Positive\", \"Predicted Negative\"])"
      ]
    },
    {
      "cell_type": "code",
      "execution_count": null,
      "id": "fe0c443c-f2bd-49d1-9845-70ef29dc1620",
      "metadata": {
        "id": "fe0c443c-f2bd-49d1-9845-70ef29dc1620",
        "outputId": "52e18cbd-915a-414f-f65f-fcbbedf2db88"
      },
      "outputs": [
        {
          "name": "stderr",
          "output_type": "stream",
          "text": [
            "/Users/vasudevgupta/miniconda3/envs/gsoc/lib/python3.8/site-packages/seaborn/distributions.py:2619: FutureWarning: `distplot` is a deprecated function and will be removed in a future version. Please adapt your code to use either `displot` (a figure-level function with similar flexibility) or `histplot` (an axes-level function for histograms).\n",
            "  warnings.warn(msg, FutureWarning)\n"
          ]
        },
        {
          "data": {
            "image/png": "[encoded data removed]",
            "text/plain": [
              "<Figure size 432x288 with 1 Axes>"
            ]
          },
          "metadata": {
            "needs_background": "light"
          },
          "output_type": "display_data"
        }
      ],
      "source": [
        "sns.distplot(y_probs[y_pred == 0, 0])\n",
        "plt.title(\"Predicted probability distribution of people with income <= 0\")\n",
        "plt.show()"
      ]
    },
    {
      "cell_type": "code",
      "execution_count": null,
      "id": "5437aecb-cf41-46c8-b283-83b7b386ed9d",
      "metadata": {
        "id": "5437aecb-cf41-46c8-b283-83b7b386ed9d",
        "outputId": "9aa00391-fd80-4e30-ca14-c12df1d82bd7"
      },
      "outputs": [
        {
          "name": "stderr",
          "output_type": "stream",
          "text": [
            "/Users/vasudevgupta/miniconda3/envs/gsoc/lib/python3.8/site-packages/seaborn/distributions.py:2619: FutureWarning: `distplot` is a deprecated function and will be removed in a future version. Please adapt your code to use either `displot` (a figure-level function with similar flexibility) or `histplot` (an axes-level function for histograms).\n",
            "  warnings.warn(msg, FutureWarning)\n"
          ]
        },
        {
          "data": {
            "image/png": "[encoded data removed]",
            "text/plain": [
              "<Figure size 432x288 with 1 Axes>"
            ]
          },
          "metadata": {
            "needs_background": "light"
          },
          "output_type": "display_data"
        }
      ],
      "source": [
        "sns.distplot(y_probs[y_pred == 1, 1])\n",
        "plt.title(\"Predicted probability distribution of people with income > 0\")\n",
        "plt.show()"
      ]
    },
    {
      "cell_type": "code",
      "execution_count": null,
      "id": "a3485580-0b42-4a34-88ff-78003305b285",
      "metadata": {
        "id": "a3485580-0b42-4a34-88ff-78003305b285",
        "outputId": "9daebfef-e7c2-4b08-ea6d-ad14dc3ab07d"
      },
      "outputs": [
        {
          "data": {
            "text/plain": [
              "0.925"
            ]
          },
          "execution_count": 36,
          "metadata": {},
          "output_type": "execute_result"
        }
      ],
      "source": [
        "tmp = y_probs[y_pred == 1, 1]\n",
        "len(tmp[tmp >= 0.9]) / len(tmp)"
      ]
    },
    {
      "cell_type": "code",
      "execution_count": null,
      "id": "f73a4917-6d3d-4757-81e1-9b811b44780d",
      "metadata": {
        "id": "f73a4917-6d3d-4757-81e1-9b811b44780d",
        "outputId": "479c17c4-b655-4f0c-a870-ad7abb157206"
      },
      "outputs": [
        {
          "data": {
            "text/plain": [
              "0.9925275546422567"
            ]
          },
          "execution_count": 37,
          "metadata": {},
          "output_type": "execute_result"
        }
      ],
      "source": [
        "tmp = y_probs[y_pred == 0, 0]\n",
        "len(tmp[tmp >= 0.9]) / len(tmp)"
      ]
    },
    {
      "cell_type": "code",
      "execution_count": null,
      "id": "689257aa-9099-4e76-84bd-f65fb8d5f901",
      "metadata": {
        "id": "689257aa-9099-4e76-84bd-f65fb8d5f901"
      },
      "outputs": [],
      "source": []
    }
  ],
  "metadata": {
    "kernelspec": {
      "display_name": "Python 3 (ipykernel)",
      "language": "python",
      "name": "python3"
    },
    "language_info": {
      "codemirror_mode": {
        "name": "ipython",
        "version": 3
      },
      "file_extension": ".py",
      "mimetype": "text/x-python",
      "name": "python",
      "nbconvert_exporter": "python",
      "pygments_lexer": "ipython3",
      "version": "3.8.11"
    },
    "colab": {
      "provenance": []
    }
  },
  "nbformat": 4,
  "nbformat_minor": 5
}